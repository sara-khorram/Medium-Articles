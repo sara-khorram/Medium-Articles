{
 "cells": [
  {
   "cell_type": "markdown",
   "metadata": {},
   "source": [
    "### Import Required Libraries"
   ]
  },
  {
   "cell_type": "code",
   "execution_count": 1,
   "metadata": {},
   "outputs": [],
   "source": [
    "import numpy as np\n",
    "import pandas as pd\n",
    "import matplotlib.pyplot as plt\n",
    "import time\n",
    "\n",
    "import pyodbc\n",
    "from sqlalchemy import create_engine\n",
    "import urllib"
   ]
  },
  {
   "cell_type": "markdown",
   "metadata": {},
   "source": [
    "### Create data frames consisting of 10000, 200000, 500000, 1000000 rows, and 4 columns by random values"
   ]
  },
  {
   "cell_type": "code",
   "execution_count": 2,
   "metadata": {},
   "outputs": [],
   "source": [
    "df_10000 = pd.DataFrame(np.random.randint(0, 1000 ,size=(10000, 4)), columns=list('ABCD'))\n",
    "df_200000 = pd.DataFrame(np.random.randint(0, 1000 ,size=(200000, 4)), columns=list('ABCD'))\n",
    "df_500000 = pd.DataFrame(np.random.randint(0, 1000 ,size=(500000, 4)), columns=list('ABCD'))\n",
    "df_1000000 = pd.DataFrame(np.random.randint(0, 1000 ,size=(1000000, 4)), columns=list('ABCD'))"
   ]
  },
  {
   "cell_type": "code",
   "execution_count": 3,
   "metadata": {},
   "outputs": [],
   "source": [
    "dfs_list = [df_10000, df_200000, df_500000, df_1000000]"
   ]
  },
  {
   "cell_type": "code",
   "execution_count": 5,
   "metadata": {},
   "outputs": [],
   "source": [
    "# Fill out this required information based on your data \n",
    "DRIVER = '' \n",
    "SERVER = '' \n",
    "DATABASE = ''\n",
    "USERNAME = '' \n",
    "PASSWORD = '' \n",
    "\n",
    "DATABASE_CONNECTION = f'DRIVER={DRIVER};SERVER={SERVER};DATABASE={DATABASE};UID={USERNAME};PWD={PASSWORD}'\n",
    "cnxn = pyodbc.connect(DATABASE_CONNECTION)"
   ]
  },
  {
   "cell_type": "markdown",
   "metadata": {},
   "source": [
    "### Method 1"
   ]
  },
  {
   "cell_type": "code",
   "execution_count": 7,
   "metadata": {},
   "outputs": [],
   "source": [
    "method_1_insert_time_list = []\n",
    "cursor = cnxn.cursor()\n",
    "\n",
    "# Insert Dataframe into SQL Server\n",
    "for df in dfs_list:\n",
    "    begin_time = time.time()\n",
    "    \n",
    "    for index, row in df.iterrows():\n",
    "         cursor.execute(\"INSERT INTO TableName (A,B,C,D) values(?,?,?,?)\", int(row.A), int(row.B), int(row.C), int(row.D))\n",
    "    \n",
    "    method_1_insert_time_list.append(time.time() - begin_time)\n",
    "    \n",
    "cnxn.commit()\n",
    "cursor.close()"
   ]
  },
  {
   "cell_type": "code",
   "execution_count": 8,
   "metadata": {},
   "outputs": [
    {
     "data": {
      "text/plain": [
       "[2.7778844833374023, 54.58980441093445, 141.44101214408875, 283.78436851501465]"
      ]
     },
     "execution_count": 8,
     "metadata": {},
     "output_type": "execute_result"
    }
   ],
   "source": [
    "method_1_insert_time_list"
   ]
  },
  {
   "cell_type": "markdown",
   "metadata": {},
   "source": [
    "### Method 2"
   ]
  },
  {
   "cell_type": "code",
   "execution_count": 11,
   "metadata": {},
   "outputs": [],
   "source": [
    "method_2_insert_time_list = []\n",
    "cursor = cnxn.cursor()\n",
    "\n",
    "# Insert Dataframe into SQL Server\n",
    "for df in dfs_list:\n",
    "    begin_time = time.time()\n",
    "    \n",
    "    for row_count in range(0, df.shape[0]):\n",
    "        chunk = df.iloc[row_count:row_count + 1,:].values.tolist()\n",
    "        tuple_of_tuples = tuple(tuple(x) for x in chunk)\n",
    "        cursor.executemany(\"INSERT INTO TableName (A,B,C,D) values(?,?,?,?)\" ,tuple_of_tuples)\n",
    "        \n",
    "    method_2_insert_time_list.append(time.time() - begin_time)\n",
    "        \n",
    "cnxn.commit()\n",
    "cursor.close()"
   ]
  },
  {
   "cell_type": "code",
   "execution_count": 13,
   "metadata": {},
   "outputs": [
    {
     "data": {
      "text/plain": [
       "[2.5228230953216553, 54.97246241569519, 134.21089386940002, 257.8404929637909]"
      ]
     },
     "execution_count": 13,
     "metadata": {},
     "output_type": "execute_result"
    }
   ],
   "source": [
    "method_2_insert_time_list"
   ]
  },
  {
   "cell_type": "markdown",
   "metadata": {},
   "source": [
    "### Method 3"
   ]
  },
  {
   "cell_type": "code",
   "execution_count": 14,
   "metadata": {},
   "outputs": [],
   "source": [
    "method_3_insert_time_list = []\n",
    "cursor = cnxn.cursor()\n",
    "cursor.fast_executemany = True\n",
    "\n",
    "# Insert Dataframe into SQL Server\n",
    "for df in dfs_list:\n",
    "    begin_time = time.time()\n",
    "    \n",
    "    for row_count in range(0, df.shape[0]):\n",
    "        chunk = df.iloc[row_count:row_count + 1,:].values.tolist()\n",
    "        tuple_of_tuples = tuple(tuple(x) for x in chunk)\n",
    "        cursor.executemany(\"INSERT INTO TableName (A,B,C,D) values(?,?,?,?)\" ,tuple_of_tuples)\n",
    "        \n",
    "    method_3_insert_time_list.append(time.time() - begin_time)\n",
    "        \n",
    "cnxn.commit()\n",
    "cursor.close()"
   ]
  },
  {
   "cell_type": "code",
   "execution_count": 16,
   "metadata": {},
   "outputs": [
    {
     "data": {
      "text/plain": [
       "[2.8153128623962402, 53.76657748222351, 135.38938164710999, 270.7001407146454]"
      ]
     },
     "execution_count": 16,
     "metadata": {},
     "output_type": "execute_result"
    }
   ],
   "source": [
    "method_3_insert_time_list"
   ]
  },
  {
   "cell_type": "markdown",
   "metadata": {},
   "source": [
    "### Method 4"
   ]
  },
  {
   "cell_type": "code",
   "execution_count": 19,
   "metadata": {},
   "outputs": [],
   "source": [
    "quoted = urllib.parse.quote_plus(f\"DRIVER={DRIVER};SERVER={SERVER};DATABASE={DATABASE};UID={USERNAME};PWD={PASSWORD}\")\n",
    "\n",
    "method_4_insert_time_list = []\n",
    "engine = create_engine('mssql+pyodbc:///?odbc_connect={}'.format(quoted))\n",
    "\n",
    "# Insert Dataframe into SQL Server\n",
    "for df in dfs_list:\n",
    "    begin_time = time.time()\n",
    "    df.to_sql('TableName', con = engine , if_exists = 'append', index = False)\n",
    "        \n",
    "    method_4_insert_time_list.append(time.time() - begin_time)"
   ]
  },
  {
   "cell_type": "code",
   "execution_count": 20,
   "metadata": {},
   "outputs": [
    {
     "data": {
      "text/plain": [
       "[2.3821728229522705, 30.52439284324646, 70.01913928985596, 147.07006168365479]"
      ]
     },
     "execution_count": 20,
     "metadata": {},
     "output_type": "execute_result"
    }
   ],
   "source": [
    "method_4_insert_time_list"
   ]
  },
  {
   "cell_type": "markdown",
   "metadata": {},
   "source": [
    "### Method 5"
   ]
  },
  {
   "cell_type": "code",
   "execution_count": 22,
   "metadata": {},
   "outputs": [],
   "source": [
    "method_5_insert_time_list = []\n",
    "engine = create_engine('mssql+pyodbc:///?odbc_connect={}'.format(quoted))\n",
    "\n",
    "for df in dfs_list:\n",
    "    begin_time = time.time()\n",
    "    df.to_sql('TableName', con = engine , if_exists = 'append', index = False, chunksize = 100000)\n",
    "        \n",
    "    method_5_insert_time_list.append(time.time() - begin_time)"
   ]
  },
  {
   "cell_type": "code",
   "execution_count": 23,
   "metadata": {},
   "outputs": [
    {
     "data": {
      "text/plain": [
       "[2.200953960418701, 32.16468095779419, 73.29088139533997, 141.43028259277344]"
      ]
     },
     "execution_count": 23,
     "metadata": {},
     "output_type": "execute_result"
    }
   ],
   "source": [
    "method_5_insert_time_list"
   ]
  },
  {
   "cell_type": "markdown",
   "metadata": {},
   "source": [
    "### Method 6"
   ]
  },
  {
   "cell_type": "code",
   "execution_count": 24,
   "metadata": {},
   "outputs": [],
   "source": [
    "method_6_insert_time_list = []\n",
    "engine = create_engine('mssql+pyodbc:///?odbc_connect={}'.format(quoted), fast_executemany = True)\n",
    "\n",
    "for df in dfs_list:\n",
    "    begin_time = time.time()\n",
    "    df.to_sql('TableName', con = engine , if_exists = 'append', index = False)\n",
    "        \n",
    "    method_6_insert_time_list.append(time.time() - begin_time)"
   ]
  },
  {
   "cell_type": "code",
   "execution_count": 25,
   "metadata": {},
   "outputs": [
    {
     "data": {
      "text/plain": [
       "[0.26253199577331543, 3.860846996307373, 9.499191999435425, 19.176920175552368]"
      ]
     },
     "execution_count": 25,
     "metadata": {},
     "output_type": "execute_result"
    }
   ],
   "source": [
    "method_6_insert_time_list"
   ]
  },
  {
   "cell_type": "markdown",
   "metadata": {},
   "source": [
    "### Plot the results"
   ]
  },
  {
   "cell_type": "code",
   "execution_count": 35,
   "metadata": {},
   "outputs": [
    {
     "data": {
      "image/png": "[encoded data removed]",
      "text/plain": [
       "<Figure size 864x432 with 1 Axes>"
      ]
     },
     "metadata": {
      "needs_background": "light"
     },
     "output_type": "display_data"
    }
   ],
   "source": [
    "x = [len(df_10000), len(df_200000), len(df_500000), len(df_1000000)]\n",
    "\n",
    "fig, ax = plt.subplots(figsize=(12, 6))\n",
    "\n",
    "ax.plot(x, method_1_insert_time_list, color = 'green', label = 'Method 1', marker='o')\n",
    "ax.plot(x, method_2_insert_time_list, color = 'red', label = 'Method 2', marker='o')\n",
    "ax.plot(x, method_3_insert_time_list, color = 'blue', label = 'Method 3', marker='o')\n",
    "ax.plot(x, method_4_insert_time_list, color = 'yellow', label = 'Method 4', marker='o')\n",
    "ax.plot(x, method_5_insert_time_list, color = 'magenta', label = 'Method 5', marker='o')\n",
    "ax.plot(x, method_6_insert_time_list, color = 'purple', label = 'Method 6', marker='o')\n",
    "\n",
    "ax.legend(loc = 'upper left')\n",
    "\n",
    "ax.set_xlabel('Data Amount (Rows)')\n",
    "ax.set_ylabel('Time (Seconds)')\n",
    "\n",
    "plt.title('Inserting Python dataframe into SQL table')\n",
    "plt.show()"
   ]
  },
  {
   "cell_type": "markdown",
   "metadata": {},
   "source": [
    "### Show results in dataframe"
   ]
  },
  {
   "cell_type": "code",
   "execution_count": 36,
   "metadata": {},
   "outputs": [],
   "source": [
    "df = pd.DataFrame(list(zip(x, \n",
    "                           method_1_insert_time_list, \n",
    "                           method_2_insert_time_list,\n",
    "                           method_3_insert_time_list, \n",
    "                           method_4_insert_time_list, \n",
    "                           method_5_insert_time_list,\n",
    "                           method_6_insert_time_list)), columns = ['Data Amount (Rows)', \n",
    "                                                                   'Method 1 Time (Seconds)',\n",
    "                                                                   'Method 2 Time (Seconds)',\n",
    "                                                                   'Method 3 Time (Seconds)',\n",
    "                                                                   'Method 4 Time (Seconds)',\n",
    "                                                                   'Method 5 Time (Seconds)',\n",
    "                                                                   'Method 6 Time (Seconds)'])"
   ]
  },
  {
   "cell_type": "code",
   "execution_count": 37,
   "metadata": {},
   "outputs": [
    {
     "data": {
      "text/html": [
       "<div>\n",
       "<style scoped>\n",
       "    .dataframe tbody tr th:only-of-type {\n",
       "        vertical-align: middle;\n",
       "    }\n",
       "\n",
       "    .dataframe tbody tr th {\n",
       "        vertical-align: top;\n",
       "    }\n",
       "\n",
       "    .dataframe thead th {\n",
       "        text-align: right;\n",
       "    }\n",
       "</style>\n",
       "<table border=\"1\" class=\"dataframe\">\n",
       "  <thead>\n",
       "    <tr style=\"text-align: right;\">\n",
       "      <th></th>\n",
       "      <th>Data Amount (Rows)</th>\n",
       "      <th>Method 1 Time (Seconds)</th>\n",
       "      <th>Method 2 Time (Seconds)</th>\n",
       "      <th>Method 3 Time (Seconds)</th>\n",
       "      <th>Method 4 Time (Seconds)</th>\n",
       "      <th>Method 5 Time (Seconds)</th>\n",
       "      <th>Method 6 Time (Seconds)</th>\n",
       "    </tr>\n",
       "  </thead>\n",
       "  <tbody>\n",
       "    <tr>\n",
       "      <th>0</th>\n",
       "      <td>10000</td>\n",
       "      <td>2.777884</td>\n",
       "      <td>2.522823</td>\n",
       "      <td>2.815313</td>\n",
       "      <td>2.382173</td>\n",
       "      <td>2.200954</td>\n",
       "      <td>0.262532</td>\n",
       "    </tr>\n",
       "    <tr>\n",
       "      <th>1</th>\n",
       "      <td>200000</td>\n",
       "      <td>54.589804</td>\n",
       "      <td>54.972462</td>\n",
       "      <td>53.766577</td>\n",
       "      <td>30.524393</td>\n",
       "      <td>32.164681</td>\n",
       "      <td>3.860847</td>\n",
       "    </tr>\n",
       "    <tr>\n",
       "      <th>2</th>\n",
       "      <td>500000</td>\n",
       "      <td>141.441012</td>\n",
       "      <td>134.210894</td>\n",
       "      <td>135.389382</td>\n",
       "      <td>70.019139</td>\n",
       "      <td>73.290881</td>\n",
       "      <td>9.499192</td>\n",
       "    </tr>\n",
       "    <tr>\n",
       "      <th>3</th>\n",
       "      <td>1000000</td>\n",
       "      <td>283.784369</td>\n",
       "      <td>257.840493</td>\n",
       "      <td>270.700141</td>\n",
       "      <td>147.070062</td>\n",
       "      <td>141.430283</td>\n",
       "      <td>19.176920</td>\n",
       "    </tr>\n",
       "  </tbody>\n",
       "</table>\n",
       "</div>"
      ],
      "text/plain": [
       "   Data Amount (Rows)  Method 1 Time (Seconds)  Method 2 Time (Seconds)  \\\n",
       "0               10000                 2.777884                 2.522823   \n",
       "1              200000                54.589804                54.972462   \n",
       "2              500000               141.441012               134.210894   \n",
       "3             1000000               283.784369               257.840493   \n",
       "\n",
       "   Method 3 Time (Seconds)  Method 4 Time (Seconds)  Method 5 Time (Seconds)  \\\n",
       "0                 2.815313                 2.382173                 2.200954   \n",
       "1                53.766577                30.524393                32.164681   \n",
       "2               135.389382                70.019139                73.290881   \n",
       "3               270.700141               147.070062               141.430283   \n",
       "\n",
       "   Method 6 Time (Seconds)  \n",
       "0                 0.262532  \n",
       "1                 3.860847  \n",
       "2                 9.499192  \n",
       "3                19.176920  "
      ]
     },
     "execution_count": 37,
     "metadata": {},
     "output_type": "execute_result"
    }
   ],
   "source": [
    "df"
   ]
  },
  {
   "cell_type": "markdown",
   "metadata": {},
   "source": [
    "## Good Luck ^-^"
   ]
  }
 ],
 "metadata": {
  "kernelspec": {
   "display_name": "Python 3",
   "language": "python",
   "name": "python3"
  },
  "language_info": {
   "codemirror_mode": {
    "name": "ipython",
    "version": 3
   },
   "file_extension": ".py",
   "mimetype": "text/x-python",
   "name": "python",
   "nbconvert_exporter": "python",
   "pygments_lexer": "ipython3",
   "version": "3.8.3"
  }
 },
 "nbformat": 4,
 "nbformat_minor": 4
}
